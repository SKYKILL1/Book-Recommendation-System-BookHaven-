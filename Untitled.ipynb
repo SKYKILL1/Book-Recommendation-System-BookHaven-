{
 "cells": [
  {
   "cell_type": "code",
   "execution_count": 14,
   "id": "dac4d8fa",
   "metadata": {},
   "outputs": [],
   "source": [
    "import pandas as pd\n",
    "import numpy as np\n",
    "from sklearn.preprocessing import LabelEncoder\n",
    "from sklearn.metrics.pairwise import cosine_similarity"
   ]
  },
  {
   "cell_type": "code",
   "execution_count": 3,
   "id": "c2809d5a",
   "metadata": {},
   "outputs": [],
   "source": [
    "# Load your dataset\n",
    "df = pd.read_csv('./Dataset/Books_merged.csv')"
   ]
  },
  {
   "cell_type": "code",
   "execution_count": 4,
   "id": "a1143f5a",
   "metadata": {},
   "outputs": [],
   "source": [
    "# Fill missing author values with a placeholder\n",
    "df['Author'] = df['Author'].fillna('Unknown Author')"
   ]
  },
  {
   "cell_type": "code",
   "execution_count": 5,
   "id": "25da32a3",
   "metadata": {},
   "outputs": [],
   "source": [
    "df1 = df.copy()"
   ]
  },
  {
   "cell_type": "code",
   "execution_count": 6,
   "id": "c85ad419",
   "metadata": {},
   "outputs": [],
   "source": [
    "# Encode the author's name\n",
    "label_encoder = LabelEncoder()\n",
    "df1['Author_encoded'] = label_encoder.fit_transform(df1['Author'].astype(str))"
   ]
  },
  {
   "cell_type": "code",
   "execution_count": 8,
   "id": "e619e5e1",
   "metadata": {},
   "outputs": [],
   "source": [
    "# Reshape author_encoded to be a 2D array (required for cosine_similarity)\n",
    "author_encoded_reshaped = df1['Author_encoded'].values.reshape(-1, 1)"
   ]
  },
  {
   "cell_type": "code",
   "execution_count": 9,
   "id": "877de2f1",
   "metadata": {},
   "outputs": [],
   "source": [
    "# Compute cosine similarity between all books based on the encoded authors\n",
    "cosine_sim = cosine_similarity(author_encoded_reshaped, author_encoded_reshaped)"
   ]
  },
  {
   "cell_type": "code",
   "execution_count": 10,
   "id": "51e5ea90",
   "metadata": {},
   "outputs": [],
   "source": [
    "# Function to get book recommendations based on the author\n",
    "def get_author_recommendations(title, cosine_sim=cosine_sim):\n",
    "    # Check if the title exists in the dataset\n",
    "    if title not in df['Title'].values:\n",
    "        print(f\"The book titled '{title}' was not found in the dataset.\")\n",
    "        return pd.DataFrame()\n",
    "\n",
    "    # Get the index of the book that matches the title\n",
    "    idx = df1[df1['Title'] == title].index[0]\n",
    "\n",
    "    # Get the pairwise similarity scores of all books with that book\n",
    "    sim_scores = list(enumerate(cosine_sim[idx]))\n",
    "\n",
    "    # Sort the books based on the similarity scores\n",
    "    sim_scores = sorted(sim_scores, key=lambda x: x[1], reverse=True)\n",
    "\n",
    "    # Get the indices of the 10 most similar books\n",
    "    sim_indices = [i[0] for i in sim_scores[1:6]]\n",
    "\n",
    "    # Return the top 10 most similar books\n",
    "    return df1.iloc[sim_indices]"
   ]
  },
  {
   "cell_type": "code",
   "execution_count": 12,
   "id": "5565baea",
   "metadata": {},
   "outputs": [
    {
     "name": "stdout",
     "output_type": "stream",
     "text": [
      "                                        Title            Author  \\\n",
      "1                                  Data Smart     Foreman, John   \n",
      "2                    God Created the Integers  Hawking, Stephen   \n",
      "3                           Superfreakonomics   Dubner, Stephen   \n",
      "4                                 Orientalism      Said, Edward   \n",
      "5  Nature of Statistical Learning Theory, The  Vapnik, Vladimir   \n",
      "\n",
      "        GenreCombined      Publisher  Height  \n",
      "1   tech,data_science          Wiley     235  \n",
      "2    tech,mathematics        Penguin     197  \n",
      "3   science,economics  HarperCollins     179  \n",
      "4  nonfiction,history        Penguin     197  \n",
      "5   tech,data_science       Springer     230  \n"
     ]
    }
   ],
   "source": [
    "# Example: Get recommendations for a specific book title\n",
    "book_title = 'Data Smart'\n",
    "recommendations = get_author_recommendations(book_title)\n",
    "\n",
    "# Display the recommended books if found\n",
    "if not recommendations.empty:\n",
    "    print(recommendations[['Title', 'Author', 'GenreCombined', 'Publisher', 'Height']])"
   ]
  },
  {
   "cell_type": "code",
   "execution_count": 18,
   "id": "bc6dde35",
   "metadata": {},
   "outputs": [
    {
     "data": {
      "text/html": [
       "<div>\n",
       "<style scoped>\n",
       "    .dataframe tbody tr th:only-of-type {\n",
       "        vertical-align: middle;\n",
       "    }\n",
       "\n",
       "    .dataframe tbody tr th {\n",
       "        vertical-align: top;\n",
       "    }\n",
       "\n",
       "    .dataframe thead th {\n",
       "        text-align: right;\n",
       "    }\n",
       "</style>\n",
       "<table border=\"1\" class=\"dataframe\">\n",
       "  <thead>\n",
       "    <tr style=\"text-align: right;\">\n",
       "      <th></th>\n",
       "      <th>Unnamed: 0</th>\n",
       "      <th>Title</th>\n",
       "      <th>Author</th>\n",
       "      <th>Height</th>\n",
       "      <th>Publisher</th>\n",
       "      <th>GenreCombined</th>\n",
       "      <th>Author_encoded</th>\n",
       "    </tr>\n",
       "  </thead>\n",
       "  <tbody>\n",
       "    <tr>\n",
       "      <th>1</th>\n",
       "      <td>1</td>\n",
       "      <td>Data Smart</td>\n",
       "      <td>Foreman, John</td>\n",
       "      <td>235</td>\n",
       "      <td>Wiley</td>\n",
       "      <td>tech,data_science</td>\n",
       "      <td>40</td>\n",
       "    </tr>\n",
       "    <tr>\n",
       "      <th>212</th>\n",
       "      <td>1</td>\n",
       "      <td>Data Smart</td>\n",
       "      <td>Foreman, John</td>\n",
       "      <td>235</td>\n",
       "      <td>Wiley</td>\n",
       "      <td>data_science,objectivism</td>\n",
       "      <td>40</td>\n",
       "    </tr>\n",
       "  </tbody>\n",
       "</table>\n",
       "</div>"
      ],
      "text/plain": [
       "     Unnamed: 0       Title         Author  Height Publisher  \\\n",
       "1             1  Data Smart  Foreman, John     235     Wiley   \n",
       "212           1  Data Smart  Foreman, John     235     Wiley   \n",
       "\n",
       "                GenreCombined  Author_encoded  \n",
       "1           tech,data_science              40  \n",
       "212  data_science,objectivism              40  "
      ]
     },
     "execution_count": 18,
     "metadata": {},
     "output_type": "execute_result"
    }
   ],
   "source": [
    "df1[df1['Author'].str.contains('Foreman', case=False)]\n"
   ]
  },
  {
   "cell_type": "code",
   "execution_count": null,
   "id": "76ef9789",
   "metadata": {},
   "outputs": [],
   "source": []
  }
 ],
 "metadata": {
  "kernelspec": {
   "display_name": "Python 3 (ipykernel)",
   "language": "python",
   "name": "python3"
  },
  "language_info": {
   "codemirror_mode": {
    "name": "ipython",
    "version": 3
   },
   "file_extension": ".py",
   "mimetype": "text/x-python",
   "name": "python",
   "nbconvert_exporter": "python",
   "pygments_lexer": "ipython3",
   "version": "3.8.19"
  }
 },
 "nbformat": 4,
 "nbformat_minor": 5
}
